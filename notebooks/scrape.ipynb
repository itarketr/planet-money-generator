{
 "cells": [
  {
   "cell_type": "code",
   "execution_count": 9,
   "metadata": {},
   "outputs": [
    {
     "data": {
      "text/plain": [
       "3718863"
      ]
     },
     "execution_count": 9,
     "metadata": {},
     "output_type": "execute_result"
    }
   ],
   "source": [
    "import bs4\n",
    "\n",
    "a = open(\"./planet-money-home.html\",'r')\n",
    "b = a.read()\n",
    "len(b)"
   ]
  },
  {
   "cell_type": "code",
   "execution_count": 10,
   "metadata": {},
   "outputs": [],
   "source": [
    "soup = bs4.BeautifulSoup(b, \"lxml\")"
   ]
  },
  {
   "cell_type": "code",
   "execution_count": 11,
   "metadata": {},
   "outputs": [],
   "source": [
    "import re as rx\n",
    "\n",
    "AllT  =rx.findall('(?<=https:\\/\\/www\\.npr\\.org\\/templates\\/transcript\\/transcript\\.php\\?storyId=)[0-9]*',b)\n",
    "mylist = list(set(AllT))"
   ]
  },
  {
   "cell_type": "code",
   "execution_count": 57,
   "metadata": {},
   "outputs": [],
   "source": [
    "import requests\n",
    "\n",
    "for story in mylist:\n",
    "    try:\n",
    "        page = requests.get(\"https://www.npr.org/templates/transcript/transcript.php?storyId=\" + story)\n",
    "        txt = bs4.BeautifulSoup(page.content)\n",
    "        titleHeader = txt.find_all('h1',class_='transcript')\n",
    "        storytitle = rx.findall(\"(?<=/span\\>)[\\w\\ 0-9:]*\", str(titleHeader[0]))\n",
    "        storytext = txt.find_all('div',class_='transcript storytext')\n",
    "        storytext = rx.findall(\"(?<=<p>).*(?=<\\/p>)\", str(storytext[0]))\n",
    "        \n",
    "        print(storytitle)\n",
    "        f = open('./transcripts/' + story + '.txt',\"w\")\n",
    "        for line in storytext:\n",
    "            f.write(line)\n",
    "        \n",
    "        f.close()\n",
    "    except:\n",
    "        continue"
   ]
  }
 ],
 "metadata": {
  "kernelspec": {
   "display_name": "conda_python2",
   "language": "python",
   "name": "conda_python2"
  },
  "language_info": {
   "codemirror_mode": {
    "name": "ipython",
    "version": 2
   },
   "file_extension": ".py",
   "mimetype": "text/x-python",
   "name": "python",
   "nbconvert_exporter": "python",
   "pygments_lexer": "ipython2",
   "version": "2.7.15"
  }
 },
 "nbformat": 4,
 "nbformat_minor": 1
}
