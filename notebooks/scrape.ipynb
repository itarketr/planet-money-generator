{
 "cells": [
  {
   "cell_type": "code",
   "execution_count": null,
   "metadata": {
    "collapsed": true
   },
   "outputs": [],
   "source": [
    "from bs4 import BeautifulSoup\n",
    "from re import findall\n",
    "from requests import get\n",
    "\n",
    "PATH_TO_HTMLFILE = \"\"\n",
    "## Read HTML file containing links to all the archived episodes\n",
    "htmlfile = open(\"PATH_TO_HTMLFILE\", 'r')\n",
    "htmlcontent = htmlfile.read()\n",
    "BeautifulSoup(htmlcontent)"
   ]
  },
  {
   "cell_type": "code",
   "execution_count": null,
   "metadata": {
    "collapsed": true
   },
   "outputs": [],
   "source": [
    "## the transcripts have a distinctive pattern. Pull out the unique storyID from the pattern\n",
    "transcriptList = findall('(?<=https:\\/\\/www\\.npr\\.org\\/templates\\/transcript\\/transcript\\.php\\?storyId=)[0-9]*',htmlcontent)\n",
    "## Make unique\n",
    "transcriptList = list(set(transcriptList))\n",
    "\n",
    "#iterate over each story\n",
    "for story in transcriptList:\n",
    "    try:\n",
    "        #download transcript\n",
    "        page = requests.get(\"https://www.npr.org/templates/transcript/transcript.php?storyId=\" + story)\n",
    "        pagetext = s4.BeautifulSoup(page.content)\n",
    "        #print the header\n",
    "        titleHeader = pagetext.find_all('h1',class_='transcript')\n",
    "        storytitle = findall(\"(?<=/span\\>)[\\w\\ 0-9:]*\", str(titleHeader[0]))\n",
    "        print(storytitle)\n",
    "        #get main text\n",
    "        storytext = pagetext.find_all('div',class_='transcript storytext')\n",
    "        storytext = findall(\"(?<=<p>).*(?=<\\/p>)\", str(storytext[0]))\n",
    "        #write to file\n",
    "        f = open('./transcripts/' + story + '.txt',\"w\")\n",
    "        for line in storytext:\n",
    "            f.write(line + '\\n')\n",
    "        f.close()\n",
    "    except:\n",
    "        continue"
   ]
  }
 ],
 "metadata": {
  "kernelspec": {
   "display_name": "Python 2",
   "language": "python",
   "name": "python2"
  },
  "language_info": {
   "codemirror_mode": {
    "name": "ipython",
    "version": 2
   },
   "file_extension": ".py",
   "mimetype": "text/x-python",
   "name": "python",
   "nbconvert_exporter": "python",
   "pygments_lexer": "ipython2",
   "version": "2.7.6"
  }
 },
 "nbformat": 4,
 "nbformat_minor": 0
}
